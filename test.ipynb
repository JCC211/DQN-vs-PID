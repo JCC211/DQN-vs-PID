{
 "cells": [
  {
   "cell_type": "code",
   "execution_count": 1,
   "id": "d4b22fc2-30cf-44ed-adef-5bf76fd3bc65",
   "metadata": {},
   "outputs": [
    {
     "data": {
      "text/plain": [
       "<torch._C.Generator at 0x7fb4217c5cf0>"
      ]
     },
     "execution_count": 1,
     "metadata": {},
     "output_type": "execute_result"
    }
   ],
   "source": [
    "# imports\n",
    "import time\n",
    "from tqdm import tqdm\n",
    "import torch\n",
    "import torch.nn as nn\n",
    "import torch.nn.functional as F\n",
    "from torch.optim import Adam,SGD\n",
    "from collections import deque\n",
    "import random\n",
    "from matplotlib import pyplot as plt\n",
    "import copy\n",
    "import numpy as np\n",
    "import gym\n",
    "from torchsummary import summary\n",
    "import warnings\n",
    "warnings.filterwarnings('ignore')\n",
    "\n",
    "# set seed for torch library\n",
    "torch.manual_seed(33)"
   ]
  },
  {
   "cell_type": "code",
   "execution_count": 2,
   "id": "837e5e66-0294-4d8f-aedb-bd5b21fa363b",
   "metadata": {},
   "outputs": [],
   "source": [
    "# instantiate DQN\n",
    "class Net(nn.Module):\n",
    "    def __init__(self):\n",
    "        super(Net, self).__init__()\n",
    "        self.fc1 = nn.Linear(4,16)\n",
    "        self.fc2 = nn.Linear(16,16)\n",
    "        self.fc3 = nn.Linear(16,2)\n",
    "    \n",
    "    def forward(self,x):\n",
    "        x = F.relu(self.fc1(x))\n",
    "        x = F.relu(self.fc2(x))\n",
    "        x = self.fc3(x)\n",
    "        return x"
   ]
  },
  {
   "cell_type": "code",
   "execution_count": 3,
   "id": "5f9b55de-7a9a-459f-8394-942117cdbee8",
   "metadata": {},
   "outputs": [
    {
     "name": "stdout",
     "output_type": "stream",
     "text": [
      "0 10000 10000.0\n",
      "1 10000 10000.0\n",
      "2 10000 10000.0\n",
      "3 10000 10000.0\n",
      "4 10000 10000.0\n",
      "5 10000 10000.0\n",
      "6 10000 10000.0\n",
      "7 10000 10000.0\n",
      "8 10000 10000.0\n",
      "9 10000 10000.0\n"
     ]
    }
   ],
   "source": [
    "# test the DQN model\n",
    "env = gym.make('CartPole-v1')\n",
    "model_500 = torch.load('cartpoleDQN.pth')\n",
    "for e in range(10):\n",
    "    sta = env.reset()[0]\n",
    "    sta = torch.from_numpy(sta)\n",
    "    # print(sta)\n",
    "    done = False\n",
    "    i = 0\n",
    "    reward = 0\n",
    "    while not done:\n",
    "        env.render()\n",
    "        action = torch.argmax(model_500(sta))\n",
    "        new_sta, rew, done, _, _ = env.step(action.item())\n",
    "        sta = torch.from_numpy(new_sta)\n",
    "        cart_velocity = new_sta[1]\n",
    "        # print(cart_velocity)\n",
    "        i += 1\n",
    "        reward += rew\n",
    "        if i == 10000:\n",
    "            done = True\n",
    "        if done:\n",
    "            print(e, i, reward)\n",
    "    env.close()"
   ]
  },
  {
   "cell_type": "code",
   "execution_count": 5,
   "id": "8def2de3-94ae-4114-a4ef-072069d13b88",
   "metadata": {},
   "outputs": [
    {
     "name": "stdout",
     "output_type": "stream",
     "text": [
      "0 1812 1812.0\n",
      "1 3718 3718.0\n",
      "2 2149 2149.0\n",
      "3 6082 6082.0\n",
      "4 4746 4746.0\n",
      "5 3083 3083.0\n",
      "6 8414 8414.0\n",
      "7 10000 10000.0\n",
      "8 1898 1898.0\n",
      "9 1534 1534.0\n"
     ]
    }
   ],
   "source": [
    "# test PID\n",
    "\n",
    "env = gym.make('CartPole-v1')\n",
    "\n",
    "for e in range(10):\n",
    "    sta = env.reset()\n",
    "    Kp = 135\n",
    "    Ki = 96.5\n",
    "    Kd = 47.5\n",
    "    action = 0\n",
    "    integral = 0\n",
    "\n",
    "    done = False\n",
    "    i = 0\n",
    "    rew = 0\n",
    "    while not done:\n",
    "        env.render()\n",
    "        observation, reward, done, info, _ = env.step(action)\n",
    "\n",
    "        cart_velocity = observation[1]\n",
    "        pole_angle = observation[2]\n",
    "        pole_angular_velocity = observation[3]\n",
    "        # print(cart_velocity)\n",
    "\n",
    "        integral += pole_angle\n",
    "\n",
    "        out = Kp*(pole_angle) + Kd*(pole_angular_velocity) + Ki*(integral)\n",
    "\n",
    "        if out > 0:\n",
    "            action = 1\n",
    "        else:\n",
    "            action = 0\n",
    "            \n",
    "        i += 1\n",
    "        rew += reward\n",
    "        if i == 10000:\n",
    "            done = True\n",
    "        if done:\n",
    "            observation = env.reset()\n",
    "            integral = 0\n",
    "            print(e, i, rew)\n",
    "    env.close()"
   ]
  },
  {
   "cell_type": "code",
   "execution_count": null,
   "id": "058b6494-8d1f-4a32-8c34-5b3e13f3f9ef",
   "metadata": {},
   "outputs": [],
   "source": []
  }
 ],
 "metadata": {
  "kernelspec": {
   "display_name": "Python 3 (ipykernel)",
   "language": "python",
   "name": "python3"
  },
  "language_info": {
   "codemirror_mode": {
    "name": "ipython",
    "version": 3
   },
   "file_extension": ".py",
   "mimetype": "text/x-python",
   "name": "python",
   "nbconvert_exporter": "python",
   "pygments_lexer": "ipython3",
   "version": "3.10.12"
  }
 },
 "nbformat": 4,
 "nbformat_minor": 5
}
